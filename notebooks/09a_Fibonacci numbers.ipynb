{
 "cells": [
  {
   "cell_type": "code",
   "execution_count": 79,
   "metadata": {},
   "outputs": [
    {
     "data": {
      "text/plain": [
       "'\\nYou must create a generator that yields fibonacci numbers. This must be an infinite stream generator. \\nThus, the function won\\'t receive any arguments. You should not use recursion.\\n\\nInstead, you should take advantage of the fact that generators \"remember\" the state of the function.\\n\\nRemember that the first element (index 0) is 0 and the second element (index 1) is 1.\\n'"
      ]
     },
     "execution_count": 79,
     "metadata": {},
     "output_type": "execute_result"
    }
   ],
   "source": [
    "\n"
   ]
  },
  {
   "cell_type": "markdown",
   "metadata": {},
   "source": [
    "###### You must create a generator that yields fibonacci numbers. This must be an infinite stream generator. \n",
    "###### Thus, the function won't receive any arguments. You should not use recursion.\n",
    "\n",
    "###### Instead, you should take advantage of the fact that generators \"remember\" the state of the function.\n",
    "\n",
    "###### Remember that the first element (index 0) is 0 and the second element (index 1) is 1.\n"
   ]
  },
  {
   "cell_type": "code",
   "execution_count": 94,
   "metadata": {},
   "outputs": [],
   "source": [
    "def fibonacci_numbers():\n",
    "    a = 0\n",
    "    b = 1\n",
    "    c = 0\n",
    "    yield a\n",
    "    yield b\n",
    "        \n",
    "    while True:\n",
    "        c = a + b\n",
    "        a, b = b, c\n",
    "        yield b\n",
    "        \n",
    "        "
   ]
  },
  {
   "cell_type": "code",
   "execution_count": 95,
   "metadata": {},
   "outputs": [],
   "source": [
    "fibo = fibonacci_numbers()"
   ]
  },
  {
   "cell_type": "code",
   "execution_count": 107,
   "metadata": {},
   "outputs": [
    {
     "data": {
      "text/plain": [
       "89"
      ]
     },
     "execution_count": 107,
     "metadata": {},
     "output_type": "execute_result"
    }
   ],
   "source": [
    "next(fibo)"
   ]
  }
 ],
 "metadata": {
  "kernelspec": {
   "display_name": "Python 3",
   "language": "python",
   "name": "python3"
  },
  "language_info": {
   "codemirror_mode": {
    "name": "ipython",
    "version": 3
   },
   "file_extension": ".py",
   "mimetype": "text/x-python",
   "name": "python",
   "nbconvert_exporter": "python",
   "pygments_lexer": "ipython3",
   "version": "3.12.0"
  }
 },
 "nbformat": 4,
 "nbformat_minor": 2
}
