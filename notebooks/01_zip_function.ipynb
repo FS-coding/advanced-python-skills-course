{
 "cells": [
  {
   "cell_type": "markdown",
   "metadata": {},
   "source": [
    "# Learn Python by doing #1\n",
    "## The zip function\n",
    "\n",
    "* Takes iterables (lists, dictionaries, tuples, strings, etc.) and \"zips\" them into tuples.\n",
    "* Is used for parallel iteration\n",
    "* Returns a `zip` object, which is an iterator of tuples"
   ]
  },
  {
   "cell_type": "markdown",
   "metadata": {},
   "source": [
    "## Lists"
   ]
  },
  {
   "cell_type": "code",
   "execution_count": 21,
   "metadata": {},
   "outputs": [],
   "source": [
    "countries = [\"Ecuador\", \"Perú\", \"Colombia\", \"USA\", \"Chile\"]\n",
    "capitals = [\"Quito\", \"Lima\", \"Bogotá\", \"Washington DC\", \"Santiago\"]\n",
    "cities = [\"Guayaquil\", \"Trujillo\", \"Medellín\", \"New York\", \"Valparaíso\"]\n",
    "countries_and_capitals = zip(countries, capitals, cities)"
   ]
  },
  {
   "cell_type": "code",
   "execution_count": 14,
   "metadata": {},
   "outputs": [
    {
     "data": {
      "text/plain": [
       "[('Ecuador', 'Quito', 'Guayaquil'),\n",
       " ('Perú', 'Lima', 'Trujillo'),\n",
       " ('Colombia', 'Bogotá', 'Medellín'),\n",
       " ('USA', 'Washington DC', 'New York'),\n",
       " ('Chile', 'Santiago', 'Valparaíso')]"
      ]
     },
     "execution_count": 14,
     "metadata": {},
     "output_type": "execute_result"
    }
   ],
   "source": [
    "list(countries_and_capitals)"
   ]
  },
  {
   "cell_type": "code",
   "execution_count": 19,
   "metadata": {},
   "outputs": [
    {
     "data": {
      "text/plain": [
       "('Colombia', 'Bogotá', 'Medellín')"
      ]
     },
     "execution_count": 19,
     "metadata": {},
     "output_type": "execute_result"
    }
   ],
   "source": [
    "countries_and_capitals.__next__()\n",
    "\n",
    "# If run several times, the next element is displayed, until:\n",
    "# ---------------------------------------------------------------------------\n",
    "# StopIteration                             Traceback (most recent call last)\n",
    "# Cell In[7], line 1\n",
    "# ----> 1 countries_and_capitals.__next__()\n",
    "\n",
    "# StopIteration: "
   ]
  },
  {
   "cell_type": "code",
   "execution_count": 23,
   "metadata": {},
   "outputs": [
    {
     "name": "stdout",
     "output_type": "stream",
     "text": [
      "Perú Lima\n",
      "Colombia Bogotá\n",
      "USA Washington DC\n",
      "Chile Santiago\n"
     ]
    }
   ],
   "source": [
    "for country, capital, cities in countries_and_capitals:\n",
    "    print(country, capital)"
   ]
  },
  {
   "cell_type": "markdown",
   "metadata": {},
   "source": [
    "## Dictionaries"
   ]
  },
  {
   "cell_type": "code",
   "execution_count": 26,
   "metadata": {},
   "outputs": [],
   "source": [
    "products = {\"apple\": 0.5, \"pineapple\": 0.7}\n",
    "tech_products = {\"iPhone\": 1000, \"Windows\": 600}\n",
    "products_and_tech_products = zip(products, tech_products)"
   ]
  },
  {
   "cell_type": "code",
   "execution_count": 27,
   "metadata": {},
   "outputs": [
    {
     "data": {
      "text/plain": [
       "[('apple', 'iPhone'), ('pineapple', 'Windows')]"
      ]
     },
     "execution_count": 27,
     "metadata": {},
     "output_type": "execute_result"
    }
   ],
   "source": [
    "list(products_and_tech_products)"
   ]
  },
  {
   "cell_type": "code",
   "execution_count": 28,
   "metadata": {},
   "outputs": [],
   "source": [
    "products = {\"apple\": 0.5, \"pineapple\": 0.7}\n",
    "tech_products = {\"iPhone\": 1000, \"Windows\": 600}\n",
    "products_and_tech_products = zip(products.values(), tech_products)"
   ]
  },
  {
   "cell_type": "code",
   "execution_count": 29,
   "metadata": {},
   "outputs": [
    {
     "data": {
      "text/plain": [
       "[(0.5, 'iPhone'), (0.7, 'Windows')]"
      ]
     },
     "execution_count": 29,
     "metadata": {},
     "output_type": "execute_result"
    }
   ],
   "source": [
    "list(products_and_tech_products)"
   ]
  },
  {
   "cell_type": "markdown",
   "metadata": {},
   "source": [
    "## Tuples"
   ]
  },
  {
   "cell_type": "code",
   "execution_count": 30,
   "metadata": {},
   "outputs": [],
   "source": [
    "countries = (\"Ecuador\", \"Perú\", \"Colombia\", \"USA\", \"Chile\")\n",
    "capitals = (\"Quito\", \"Lima\", \"Bogotá\", \"Washington DC\", \"Santiago\")\n",
    "cities = (\"Guayaquil\", \"Trujillo\", \"Medellín\", \"New York\", \"Valparaíso\")\n",
    "countries_and_capitals = zip(countries, capitals, cities)"
   ]
  },
  {
   "cell_type": "code",
   "execution_count": 31,
   "metadata": {},
   "outputs": [
    {
     "data": {
      "text/plain": [
       "[('Ecuador', 'Quito', 'Guayaquil'),\n",
       " ('Perú', 'Lima', 'Trujillo'),\n",
       " ('Colombia', 'Bogotá', 'Medellín'),\n",
       " ('USA', 'Washington DC', 'New York'),\n",
       " ('Chile', 'Santiago', 'Valparaíso')]"
      ]
     },
     "execution_count": 31,
     "metadata": {},
     "output_type": "execute_result"
    }
   ],
   "source": [
    "list(countries_and_capitals)"
   ]
  },
  {
   "cell_type": "markdown",
   "metadata": {},
   "source": [
    "## Strings"
   ]
  },
  {
   "cell_type": "code",
   "execution_count": 32,
   "metadata": {},
   "outputs": [],
   "source": [
    "country = \"Ecuador\"\n",
    "capital = \"Quito\"\n",
    "country_and_capital = zip(country, capital)"
   ]
  },
  {
   "cell_type": "code",
   "execution_count": 33,
   "metadata": {},
   "outputs": [
    {
     "data": {
      "text/plain": [
       "[('E', 'Q'), ('c', 'u'), ('u', 'i'), ('a', 't'), ('d', 'o')]"
      ]
     },
     "execution_count": 33,
     "metadata": {},
     "output_type": "execute_result"
    }
   ],
   "source": [
    "list(country_and_capital)"
   ]
  },
  {
   "cell_type": "code",
   "execution_count": null,
   "metadata": {},
   "outputs": [],
   "source": []
  }
 ],
 "metadata": {
  "kernelspec": {
   "display_name": "Python 3",
   "language": "python",
   "name": "python3"
  },
  "language_info": {
   "codemirror_mode": {
    "name": "ipython",
    "version": 3
   },
   "file_extension": ".py",
   "mimetype": "text/x-python",
   "name": "python",
   "nbconvert_exporter": "python",
   "pygments_lexer": "ipython3",
   "version": "3.12.0"
  }
 },
 "nbformat": 4,
 "nbformat_minor": 4
}
