{
 "cells": [
  {
   "cell_type": "markdown",
   "metadata": {},
   "source": [
    "# Learn Python by doing #10\n",
    "## Any\n",
    "* Returns True if any element of an iterable is True and False otherwise.\n",
    "* At least one value is True $\\rightarrow$ True\n",
    "* All values are False $\\rightarrow$ False\n",
    "* Empty iterable $\\rightarrow$ False"
   ]
  },
  {
   "cell_type": "code",
   "execution_count": 19,
   "metadata": {},
   "outputs": [
    {
     "data": {
      "text/plain": [
       "True"
      ]
     },
     "execution_count": 19,
     "metadata": {},
     "output_type": "execute_result"
    }
   ],
   "source": [
    "fruits = [\"apple\", \"pineapple\", \"watermelon\", \"avocado\"]\n",
    "fruits_mapped = map(lambda fruit: fruit.startswith(\"a\"), fruits)\n",
    "# print(list(fruits_mapped))\n",
    "any(fruits_mapped)"
   ]
  },
  {
   "cell_type": "code",
   "execution_count": 20,
   "metadata": {},
   "outputs": [
    {
     "data": {
      "text/plain": [
       "True"
      ]
     },
     "execution_count": 20,
     "metadata": {},
     "output_type": "execute_result"
    }
   ],
   "source": [
    "fruits = [\"apple\", \"pineapple\", \"watermelon\", \"avocado\"]\n",
    "fruits_mapped = map(lambda fruit: len(fruit) < 50, fruits)\n",
    "# print(list(fruits_mapped))\n",
    "any(fruits_mapped)"
   ]
  },
  {
   "cell_type": "code",
   "execution_count": 21,
   "metadata": {},
   "outputs": [
    {
     "data": {
      "text/plain": [
       "False"
      ]
     },
     "execution_count": 21,
     "metadata": {},
     "output_type": "execute_result"
    }
   ],
   "source": [
    "fruits = [\"apple\", \"pineapple\", \"watermelon\", \"avocado\"]\n",
    "fruits_mapped = map(lambda fruit: len(fruit) > 50, fruits)\n",
    "# print(list(fruits_mapped))\n",
    "any(fruits_mapped)"
   ]
  },
  {
   "cell_type": "code",
   "execution_count": 22,
   "metadata": {},
   "outputs": [
    {
     "data": {
      "text/plain": [
       "False"
      ]
     },
     "execution_count": 22,
     "metadata": {},
     "output_type": "execute_result"
    }
   ],
   "source": [
    "fruits = [\"apple\", \"pineapple\", \"watermelon\", \"avocado\"]\n",
    "fruits_mapped = map(lambda fruit: len(fruit) > 50, fruits)\n",
    "any([])"
   ]
  },
  {
   "cell_type": "markdown",
   "metadata": {},
   "source": [
    "## All\n",
    "* Return True if all elements of an iterable is True and False otherwise.\n",
    "* At least one value is False $\\rightarrow$ False\n",
    "* All values are True $\\rightarrow$ True\n",
    "* All values are False $\\rightarrow$ False\n",
    "* Empty iterable $\\rightarrow$ True"
   ]
  },
  {
   "cell_type": "code",
   "execution_count": 31,
   "metadata": {},
   "outputs": [
    {
     "data": {
      "text/plain": [
       "True"
      ]
     },
     "execution_count": 31,
     "metadata": {},
     "output_type": "execute_result"
    }
   ],
   "source": [
    "fruits_mapped = map(lambda fruit: len(fruit) < 50, fruits)\n",
    "# print(list(fruits_mapped))  # [True, True, True, True]\n",
    "all(fruits_mapped)"
   ]
  },
  {
   "cell_type": "code",
   "execution_count": 32,
   "metadata": {},
   "outputs": [
    {
     "data": {
      "text/plain": [
       "False"
      ]
     },
     "execution_count": 32,
     "metadata": {},
     "output_type": "execute_result"
    }
   ],
   "source": [
    "fruits_mapped = map(lambda fruit: len(fruit) > 50, fruits)\n",
    "# print(list(fruits_mapped))  # [False, False, False, False]\n",
    "all(fruits_mapped)"
   ]
  },
  {
   "cell_type": "code",
   "execution_count": 30,
   "metadata": {},
   "outputs": [
    {
     "data": {
      "text/plain": [
       "False"
      ]
     },
     "execution_count": 30,
     "metadata": {},
     "output_type": "execute_result"
    }
   ],
   "source": [
    "fruits_mapped = map(lambda fruit: fruit.startswith(\"a\"), fruits)\n",
    "# print(list(fruits_mapped))  # [True, False, False, True]\n",
    "all(fruits_mapped)"
   ]
  },
  {
   "cell_type": "code",
   "execution_count": 28,
   "metadata": {},
   "outputs": [
    {
     "data": {
      "text/plain": [
       "True"
      ]
     },
     "execution_count": 28,
     "metadata": {},
     "output_type": "execute_result"
    }
   ],
   "source": [
    "fruits_mapped = map(lambda fruit: len(fruit) < 50, fruits)\n",
    "all([])"
   ]
  }
 ],
 "metadata": {
  "kernelspec": {
   "display_name": "Python 3",
   "language": "python",
   "name": "python3"
  },
  "language_info": {
   "codemirror_mode": {
    "name": "ipython",
    "version": 3
   },
   "file_extension": ".py",
   "mimetype": "text/x-python",
   "name": "python",
   "nbconvert_exporter": "python",
   "pygments_lexer": "ipython3",
   "version": "3.12.0"
  }
 },
 "nbformat": 4,
 "nbformat_minor": 4
}
