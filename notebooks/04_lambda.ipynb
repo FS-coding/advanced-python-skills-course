{
 "cells": [
  {
   "cell_type": "markdown",
   "metadata": {},
   "source": [
    "# Learn Python by doing #4\n",
    "## Lambda functions\n",
    "\n",
    "* Also called anonymous functions because they are unnamed.\n",
    "* Its syntax is: **lambda arguments: expression**\n",
    "* They can take any number of parameters.\n",
    "* They are useful to understand the following videos, so pay close attention!"
   ]
  },
  {
   "cell_type": "code",
   "execution_count": 21,
   "metadata": {},
   "outputs": [
    {
     "name": "stdout",
     "output_type": "stream",
     "text": [
      "12\n"
     ]
    }
   ],
   "source": [
    "i = 5\n",
    "add = lambda x: x+i\n",
    "print(add(7))"
   ]
  },
  {
   "cell_type": "code",
   "execution_count": 22,
   "metadata": {},
   "outputs": [],
   "source": [
    "lambda_functions = [lambda x: x+j for j in range(3)]"
   ]
  },
  {
   "cell_type": "code",
   "execution_count": null,
   "metadata": {},
   "outputs": [
    {
     "name": "stdout",
     "output_type": "stream",
     "text": [
      "7\n"
     ]
    }
   ],
   "source": [
    "# the first element of this list should be lambda x: x+0\n",
    "first_lambda_function = lambda_functions[0]\n",
    "print(first_lambda_function(5))\n",
    "\n",
    "# Lambda functions are created at runtime, so the last value is used here:\n",
    "# When you create the list of lambda functions, they all share the same variable j. \n",
    "# At the time of creation, j is 2 because it’s the last value in the range(3).\n",
    "# So, the lambda functions in your list are equivalent to:\n",
    "# lambda x: x + 2\n",
    "# lambda x: x + 2\n",
    "# lambda x: x + 2\n",
    "\n",
    "# If you want each lambda function to have a different value of j, \n",
    "#you can use a default argument to capture the current value of j during the list comprehension. For example:\n",
    "\n",
    "# lambda_functions = [lambda x, j=j: x + j for j in range(3)]\n"
   ]
  },
  {
   "cell_type": "code",
   "execution_count": 27,
   "metadata": {},
   "outputs": [],
   "source": [
    "multiplication = lambda a,b,c: a*b*c"
   ]
  },
  {
   "cell_type": "code",
   "execution_count": 28,
   "metadata": {},
   "outputs": [
    {
     "data": {
      "text/plain": [
       "40"
      ]
     },
     "execution_count": 28,
     "metadata": {},
     "output_type": "execute_result"
    }
   ],
   "source": [
    "multiplication(4,5,2)"
   ]
  },
  {
   "cell_type": "code",
   "execution_count": null,
   "metadata": {},
   "outputs": [],
   "source": []
  }
 ],
 "metadata": {
  "kernelspec": {
   "display_name": "Python 3",
   "language": "python",
   "name": "python3"
  },
  "language_info": {
   "codemirror_mode": {
    "name": "ipython",
    "version": 3
   },
   "file_extension": ".py",
   "mimetype": "text/x-python",
   "name": "python",
   "nbconvert_exporter": "python",
   "pygments_lexer": "ipython3",
   "version": "3.6.9"
  }
 },
 "nbformat": 4,
 "nbformat_minor": 4
}
